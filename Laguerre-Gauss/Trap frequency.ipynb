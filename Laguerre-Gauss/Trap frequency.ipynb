{
 "cells": [
  {
   "cell_type": "code",
   "execution_count": 1,
   "metadata": {},
   "outputs": [],
   "source": [
    "%matplotlib inline\n",
    "import math\n",
    "import matplotlib.pyplot as plt\n",
    "import numpy as np\n",
    "import scipy\n",
    "from scipy import integrate\n",
    "import lmfit\n",
    "from lmfit import minimize, Parameters\n",
    "from lmfit import Model\n",
    "from scipy import ndimage"
   ]
  },
  {
   "cell_type": "markdown",
   "metadata": {},
   "source": [
    "# Constants"
   ]
  },
  {
   "cell_type": "code",
   "execution_count": 2,
   "metadata": {},
   "outputs": [
    {
     "name": "stdout",
     "output_type": "stream",
     "text": [
      "137.92849162642474\n"
     ]
    }
   ],
   "source": [
    "h = 6.62*10**-34\n",
    "hbar = h/(2*np.pi)\n",
    "kb = 1.38*10**-23\n",
    "c = 3*10**8\n",
    "e = 1.602*10**-19\n",
    "eps_0 = 8.8542*10**-12\n",
    "\n",
    "wl_1064 = 1064*10**-9\n",
    "omega_1064 = 2*np.pi*c/wl_1064\n",
    "\n",
    "wl_D2 = 780.241*10**-9\n",
    "omega_D2 = 2*np.pi*c/wl_D2\n",
    "gamma_D2 = 2*np.pi * 6.065*10**6\n",
    "\n",
    "wl_D1 = 794.978*10**-9\n",
    "omega_D1 = 2*np.pi*c/wl_D1\n",
    "gamma_D1 = 2*np.pi * 5.746*10**6\n",
    "\n",
    "omega_avg = (omega_D2+omega_D1)/2\n",
    "\n",
    "detuning_D1 = omega_1064 - omega_D1\n",
    "detuning_D2 = omega_1064 - omega_D2\n",
    "detuning_avg = omega_1064 - (omega_D1+omega_D2)/2\n",
    "\n",
    "me = 9.109*10**-31\n",
    "mRb = 85.4678*1.6605*10**-27\n",
    "alpha = 1/137\n",
    "\n",
    "def trap_freq(waist, power): #waist in µm, power in W, returns freq in kHz   \n",
    "    w = waist\n",
    "    P = power\n",
    "    return (1/(2*np.pi))*(4/omega_1064)*np.sqrt((alpha*hbar)/(me*mRb))*(np.sqrt(P)/w**2)*10**-3  \n",
    "\n",
    "print((alpha*h/(kb*me*omega_1064**2))*2*5.3/(np.exp(1)*np.pi*(33.2*10**-6)**2)*10**6)"
   ]
  },
  {
   "cell_type": "code",
   "execution_count": 3,
   "metadata": {
    "hide_input": false
   },
   "outputs": [],
   "source": [
    "def LG(r, waist, power):     #waist = 4*sigma\n",
    "    return power*(4/np.pi)*(r**2/waist**4)*np.exp(-2*r**2/waist**2)\n",
    "\n",
    "def gaussian(r, waist, power):     #waist = 4*sigma\n",
    "    return power*2/(np.pi*waist**2)*np.exp(-2*r**2/waist**2)\n",
    "\n",
    "def convolution(r, waist_LG, waist_blue, power_LG, power_blue):\n",
    "    conv = lambda x: LG(r-x, waist_LG, power_LG)*gaussian(x, waist_blue, power_blue)\n",
    "    return scipy.integrate.quad(conv, -np.inf , np.inf)[0]\n",
    "    "
   ]
  },
  {
   "cell_type": "code",
   "execution_count": 4,
   "metadata": {
    "hide_input": false
   },
   "outputs": [
    {
     "data": {
      "text/plain": [
       "[<matplotlib.lines.Line2D at 0x1123c8eb8>]"
      ]
     },
     "execution_count": 4,
     "metadata": {},
     "output_type": "execute_result"
    },
    {
     "data": {
      "image/png": "[encoded data removed]",
      "text/plain": [
       "<matplotlib.figure.Figure at 0x10f1cdcc0>"
      ]
     },
     "metadata": {},
     "output_type": "display_data"
    }
   ],
   "source": [
    "x_range = np.linspace(-100, 100, 201)\n",
    "\n",
    "waist_LG = 35\n",
    "waist_blue = 15\n",
    "power_LG = 10\n",
    "power_blue = 0.02\n",
    "\n",
    "plt.figure()\n",
    "plt.plot(x_range, LG(x_range, waist_LG, power_LG))\n",
    "plt.plot(x_range, gaussian(x_range, waist_blue, power_blue))\n",
    "\n",
    "res = np.zeros(201)\n",
    "for i in range(201):\n",
    "    res[i] = convolution(x_range[i], waist_LG, waist_blue, power_LG, power_blue)\n",
    "\n",
    "plt.plot(x_range, 2500*res)"
   ]
  },
  {
   "cell_type": "markdown",
   "metadata": {},
   "source": [
    "# Power and waist estimation"
   ]
  },
  {
   "cell_type": "code",
   "execution_count": 5,
   "metadata": {},
   "outputs": [
    {
     "name": "stdout",
     "output_type": "stream",
     "text": [
      "Estimated waist : 31.82 (µm)\n"
     ]
    }
   ],
   "source": [
    "#distance between the two peaks :\n",
    "\n",
    "D = (45)   #µm\n",
    "\n",
    "w = D*10**-6/np.sqrt(2)    #estimation of the waist\n",
    "\n",
    "print('Estimated waist : '+ str(np.round(w*10**6,3)) + ' (µm)')"
   ]
  },
  {
   "cell_type": "code",
   "execution_count": 9,
   "metadata": {},
   "outputs": [
    {
     "name": "stdout",
     "output_type": "stream",
     "text": [
      "-2.780319707358088\n",
      "2.5525647277000925\n",
      "5.3328844350581806\n",
      "Estimated lightshift : 18.94 (MHz)\n",
      "Estimated power in the cryo : 5.65W\n",
      "\n",
      "Estimated trapping frequency : 2.06kHz\n"
     ]
    }
   ],
   "source": [
    "coeff_GS = ((np.pi*c**2)/(2*h*omega_avg**3))*(gamma_D1/detuning_D1 + 2*gamma_D2/detuning_D2)    #in Hz\n",
    "coeff_Ryd = (e**2)/(2*me*eps_0*c*(omega_1064)**2)/(h)                                             #in Hz\n",
    "print(coeff_GS*10**3)\n",
    "print(coeff_Ryd*10**3)\n",
    "print(coeff_Ryd*10**3 - coeff_GS*10**3 )\n",
    "\n",
    "#Measured lightshift (with gaussian beam)\n",
    "\n",
    "ls_volt = 2.54  #in V\n",
    "ls_freq = ls_volt*7.458*10**6\n",
    "print('Estimated lightshift : '+ str(np.round(ls_freq*10**-6,2)) + ' (MHz)')\n",
    "\n",
    "exp_power = ls_freq*(np.pi*w**2)/(2*(-coeff_GS + coeff_Ryd))    #for LG beam here, remove e for gaussian\n",
    "print('Estimated power in the cryo : ' + str(np.round(exp_power,2)) + 'W')\n",
    "print('')\n",
    "print('Estimated trapping frequency : ' + str(np.round(trap_freq(w, exp_power),2)) + 'kHz' )\n"
   ]
  },
  {
   "cell_type": "code",
   "execution_count": 45,
   "metadata": {
    "hide_input": true
   },
   "outputs": [
    {
     "name": "stderr",
     "output_type": "stream",
     "text": [
      "/anaconda3/lib/python3.6/site-packages/ipykernel_launcher.py:32: RuntimeWarning: divide by zero encountered in double_scalars\n"
     ]
    },
    {
     "data": {
      "image/png": "[encoded data removed]",
      "text/plain": [
       "<matplotlib.figure.Figure at 0x1a132266a0>"
      ]
     },
     "metadata": {},
     "output_type": "display_data"
    }
   ],
   "source": [
    "res = np.zeros((100, 2))\n",
    "\n",
    "for i in range(100):\n",
    "    res[i,0] = i/10 +0.1\n",
    "    \n",
    "for i in range(100):\n",
    "    \n",
    "    dist = 1000\n",
    "    for w in range(100):\n",
    "        freq = trap_freq(w*10**-6, res[i,0])\n",
    "        if (np.sqrt((freq-2)**2) < dist):\n",
    "            res[i,1] = w\n",
    "            dist = np.sqrt((freq-2)**2)\n",
    "\n",
    "plt.plot(res[:,0], res[:,1])\n",
    "plt.xlabel('Power in LG (W)')\n",
    "plt.ylabel('Waist of LG (µm)')\n",
    "plt.title('Couples (power, waist) that achieve a 2kHz trap freq.')\n",
    "plt.savefig('couples2kHz.png', format = 'png', dpi = 1000)"
   ]
  },
  {
   "cell_type": "code",
   "execution_count": null,
   "metadata": {},
   "outputs": [],
   "source": []
  }
 ],
 "metadata": {
  "kernelspec": {
   "display_name": "Python 3",
   "language": "python",
   "name": "python3"
  },
  "language_info": {
   "codemirror_mode": {
    "name": "ipython",
    "version": 3
   },
   "file_extension": ".py",
   "mimetype": "text/x-python",
   "name": "python",
   "nbconvert_exporter": "python",
   "pygments_lexer": "ipython3",
   "version": "3.6.4"
  }
 },
 "nbformat": 4,
 "nbformat_minor": 2
}
